{
 "cells": [
  {
   "cell_type": "code",
   "execution_count": 4,
   "id": "77ab957e",
   "metadata": {},
   "outputs": [
    {
     "name": "stdout",
     "output_type": "stream",
     "text": [
      "Data shape: (597, 14)\n",
      "Columns: ['age_(age_in_year)', 'sex', 'chest_pain', 'blood_pressure', 'cholestoral', 'blood_sugar', 'electrocardiographic', 'heart_rate', 'exercise_induced', 'depression', 'slope', 'ca', 'thal', 'c']\n",
      "Missing values: age_(age_in_year)         0\n",
      "sex                       0\n",
      "chest_pain                0\n",
      "blood_pressure            1\n",
      "cholestoral              23\n",
      "blood_sugar               8\n",
      "electrocardiographic      1\n",
      "heart_rate                1\n",
      "exercise_induced          1\n",
      "depression                0\n",
      "slope                   190\n",
      "ca                      294\n",
      "thal                    268\n",
      "c                         0\n",
      "dtype: int64\n",
      "Model accuracy: 0.8235294117647058\n"
     ]
    },
    {
     "data": {
      "image/png": "[encoded data removed]",
      "text/plain": [
       "<Figure size 800x600 with 2 Axes>"
      ]
     },
     "metadata": {},
     "output_type": "display_data"
    }
   ],
   "source": [
    "import pandas as pd\n",
    "from sklearn.model_selection import train_test_split\n",
    "from sklearn.linear_model import LogisticRegression\n",
    "from sklearn.preprocessing import StandardScaler\n",
    "from sklearn.metrics import accuracy_score, confusion_matrix\n",
    "import seaborn as sns\n",
    "import matplotlib.pyplot as plt\n",
    "\n",
    "# Load data\n",
    "df = pd.read_csv(\"C:/Heart_data.csv\") \n",
    "df.columns = df.columns.str.strip().str.lower().str.replace(' ', '_')\n",
    "print(\"Data shape:\", df.shape)\n",
    "print(\"Columns:\", df.columns.tolist())\n",
    "print(\"Missing values:\", df.isnull().sum())\n",
    "\n",
    "# Data Preparation\n",
    "numeric_cols = ['age_(age_in_year)', 'blood_pressure', 'cholestoral', 'heart_rate', 'depression', 'ca', 'thal']\n",
    "df[numeric_cols] = df[numeric_cols].fillna(df[numeric_cols].mean())\n",
    "df = df[(df['blood_pressure'] > 0) & (df['cholestoral'] <= 500)]\n",
    "scaler = StandardScaler()\n",
    "df[numeric_cols] = scaler.fit_transform(df[numeric_cols])\n",
    "categorical_cols = ['sex', 'chest_pain', 'blood_sugar', 'electrocardiographic', 'exercise_induced', 'slope']\n",
    "df = pd.get_dummies(df, columns=categorical_cols)\n",
    "\n",
    "# Modeling\n",
    "X = df.drop('c', axis=1)\n",
    "y = df['c']\n",
    "X_train, X_test, y_train, y_test = train_test_split(X, y, test_size=0.2, random_state=42)\n",
    "model = LogisticRegression(max_iter=1000)\n",
    "model.fit(X_train, y_train)\n",
    "y_pred = model.predict(X_test)\n",
    "accuracy = accuracy_score(y_test, y_pred)\n",
    "print(\"Model accuracy:\", accuracy)\n",
    "\n",
    "# Visualization\n",
    "cm = confusion_matrix(y_test, y_pred)\n",
    "plt.figure(figsize=(8,6))\n",
    "sns.heatmap(cm, annot=True, fmt='d', cmap='Blues')\n",
    "plt.title(\"Confusion Matrix\")\n",
    "plt.show()"
   ]
  },
  {
   "cell_type": "code",
   "execution_count": null,
   "id": "1b539086",
   "metadata": {},
   "outputs": [],
   "source": []
  },
  {
   "cell_type": "code",
   "execution_count": null,
   "id": "13a8f41b",
   "metadata": {},
   "outputs": [],
   "source": []
  }
 ],
 "metadata": {
  "kernelspec": {
   "display_name": "Python 3 (ipykernel)",
   "language": "python",
   "name": "python3"
  },
  "language_info": {
   "codemirror_mode": {
    "name": "ipython",
    "version": 3
   },
   "file_extension": ".py",
   "mimetype": "text/x-python",
   "name": "python",
   "nbconvert_exporter": "python",
   "pygments_lexer": "ipython3",
   "version": "3.9.13"
  }
 },
 "nbformat": 4,
 "nbformat_minor": 5
}
